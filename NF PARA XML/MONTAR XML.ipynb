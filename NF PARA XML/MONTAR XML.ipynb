{
 "cells": [
  {
   "cell_type": "code",
   "execution_count": 139,
   "id": "dffe2889",
   "metadata": {},
   "outputs": [
    {
     "name": "stdout",
     "output_type": "stream",
     "text": [
      "43.874.531/0001-16\n"
     ]
    }
   ],
   "source": [
    "#Testar para definir o fatiamento\n",
    "\n",
    "for i in range(len(lines)):\n",
    "    if lines[i].startswith('TOMADOR DE SERVIÇOS'):\n",
    "        ET.SubElement(root, 'cnpj_tomador').text = ' '.join(lines[i+3].split()[1])\n",
    "        print(f\"{lines[i+3].split()[1]}\")"
   ]
  },
  {
   "cell_type": "markdown",
   "id": "518dbab2",
   "metadata": {},
   "source": [
    "# MONTAR XML"
   ]
  },
  {
   "cell_type": "code",
   "execution_count": 143,
   "id": "1da78bac",
   "metadata": {},
   "outputs": [
    {
     "name": "stdout",
     "output_type": "stream",
     "text": [
      "1283\n",
      "30/03/2022\n",
      "['BR', 'GAMER', 'LTDA']\n",
      "43.874.531/0001-16\n",
      "2.307,68\n",
      "['Licenciamento', 'Ou', 'Cessao', 'de', 'Direito', 'de', 'Uso', 'de', 'Programas', 'de', 'Computacao,', 'Inclusive', 'Distribuicao']\n"
     ]
    }
   ],
   "source": [
    "import pdfminer.high_level as pdf\n",
    "import xml.etree.ElementTree as ET\n",
    "\n",
    "# Extrai o texto do PDF\n",
    "text = pdf.extract_text('NFS_001283_THINK DIGITAL_2.307,68.pdf')\n",
    "\n",
    "# Cria a estrutura XML\n",
    "root = ET.Element('nota_fiscal')\n",
    "\n",
    "# Adiciona os elementos à estrutura\n",
    "lines = text.split('\\n')\n",
    "for i in range(len(lines)):\n",
    "    \n",
    "    if lines[i].startswith('TOMADOR DE SERVIÇOS'):\n",
    "        ET.SubElement(root, 'nome_tomador').text = ' '.join(lines[i+2].split()[2:5])\n",
    "        print(f\"{lines[i+2].split()[2:5]}\")\n",
    "        \n",
    "    if lines[i].startswith('TOMADOR DE SERVIÇOS'):\n",
    "        ET.SubElement(root, 'cnpj_tomador').text = ' '.join(lines[i+3].split()[1])\n",
    "        print(f\"{lines[i+3].split()[1]}\")\n",
    "        \n",
    "    elif lines[i].startswith('Número da Nota'):\n",
    "        ET.SubElement(root, 'numero').text = lines[i+1].split()[-1]\n",
    "        print(f\"{lines[i+1].split()[-1]}\")\n",
    "\n",
    "    elif lines[i].startswith('Data e Hora de Emissão'):\n",
    "        ET.SubElement(root, 'data_emissao').text = lines[i+1].split()[0]\n",
    "        print(f\"{lines[i+1].split()[0]}\")\n",
    "        \n",
    "    elif lines[i].startswith('VALOR TOTAL DA NOTA'):\n",
    "        ET.SubElement(root, 'valor_total').text = lines[i].split()[-1]\n",
    "        print(f\"{lines[i].split()[-1]}\")\n",
    "        \n",
    "    elif lines[i].startswith('Código do Serviço'):\n",
    "        ET.SubElement(root, 'codigo').text = ' '.join(lines[i+1].split()[2:15])\n",
    "        print(f\"{lines[i+1].split()[2:15]}\")\n",
    "        \n",
    "ET.ElementTree(root).write('teste.xml')"
   ]
  },
  {
   "cell_type": "markdown",
   "id": "a91ac0dd",
   "metadata": {},
   "source": [
    "# TESTE LOOPING"
   ]
  },
  {
   "cell_type": "code",
   "execution_count": 1,
   "id": "b9d95730",
   "metadata": {},
   "outputs": [
    {
     "name": "stdout",
     "output_type": "stream",
     "text": [
      "1283\n",
      "30/03/2022\n",
      "['BR', 'GAMER', 'LTDA']\n",
      "43.874.531/0001-16\n",
      "2.307,68\n",
      "['Licenciamento', 'Ou', 'Cessao', 'de', 'Direito', 'de', 'Uso', 'de', 'Programas', 'de', 'Computacao,', 'Inclusive', 'Distribuicao']\n"
     ]
    }
   ],
   "source": [
    "import os\n",
    "import pdfminer.high_level as pdf\n",
    "import xml.etree.ElementTree as ET\n",
    "\n",
    "# Percorre todos os arquivos no diretório atual\n",
    "for filename in os.listdir():\n",
    "    # Se o arquivo for PDF\n",
    "    if filename.endswith('.pdf'):\n",
    "        # Extrai o texto do PDF\n",
    "        text = pdf.extract_text(filename)\n",
    "\n",
    "        # Cria a estrutura XML\n",
    "        root = ET.Element('nota_fiscal')\n",
    "\n",
    "        # Adiciona os elementos à estrutura\n",
    "        lines = text.split('\\n')\n",
    "        for i in range(len(lines)):\n",
    "\n",
    "            if lines[i].startswith('TOMADOR DE SERVIÇOS'):\n",
    "                ET.SubElement(root, 'nome_tomador').text = ' '.join(lines[i+2].split()[2:5])\n",
    "                print(f\"{lines[i+2].split()[2:5]}\")\n",
    "\n",
    "            if lines[i].startswith('TOMADOR DE SERVIÇOS'):\n",
    "                ET.SubElement(root, 'cnpj_tomador').text = ' '.join(lines[i+3].split()[1])\n",
    "                print(f\"{lines[i+3].split()[1]}\")\n",
    "\n",
    "            elif lines[i].startswith('Número da Nota'):\n",
    "                ET.SubElement(root, 'numero').text = lines[i+1].split()[-1]\n",
    "                print(f\"{lines[i+1].split()[-1]}\")\n",
    "\n",
    "            elif lines[i].startswith('Data e Hora de Emissão'):\n",
    "                ET.SubElement(root, 'data_emissao').text = lines[i+1].split()[0]\n",
    "                print(f\"{lines[i+1].split()[0]}\")\n",
    "\n",
    "            elif lines[i].startswith('VALOR TOTAL DA NOTA'):\n",
    "                ET.SubElement(root, 'valor_total').text = lines[i].split()[-1]\n",
    "                print(f\"{lines[i].split()[-1]}\")\n",
    "\n",
    "            elif lines[i].startswith('Código do Serviço'):\n",
    "                ET.SubElement(root, 'codigo').text = ' '.join(lines[i+1].split()[2:15])\n",
    "                print(f\"{lines[i+1].split()[2:15]}\")\n",
    "\n",
    "        # Cria um arquivo XML para o PDF atual\n",
    "        xml_filename = os.path.splitext(filename)[0] + '.xml'\n",
    "        ET.ElementTree(root).write(xml_filename)\n"
   ]
  },
  {
   "cell_type": "markdown",
   "id": "f5e60e80",
   "metadata": {},
   "source": [
    "# VER ESTRUTURA DO XML"
   ]
  },
  {
   "cell_type": "code",
   "execution_count": 145,
   "id": "5bcae14f",
   "metadata": {},
   "outputs": [
    {
     "data": {
      "text/plain": [
       "OrderedDict([('nota_fiscal',\n",
       "              OrderedDict([('numero', '1283'),\n",
       "                           ('data_emissao', '30/03/2022'),\n",
       "                           ('nome_tomador', 'BR GAMER LTDA'),\n",
       "                           ('cnpj_tomador',\n",
       "                            '4 3 . 8 7 4 . 5 3 1 / 0 0 0 1 - 1 6'),\n",
       "                           ('valor_total', '2.307,68'),\n",
       "                           ('codigo',\n",
       "                            'Licenciamento Ou Cessao de Direito de Uso de Programas de Computacao, Inclusive Distribuicao')]))])"
      ]
     },
     "execution_count": 145,
     "metadata": {},
     "output_type": "execute_result"
    }
   ],
   "source": [
    "xml_dict"
   ]
  }
 ],
 "metadata": {
  "kernelspec": {
   "display_name": "Python 3",
   "language": "python",
   "name": "python3"
  },
  "language_info": {
   "codemirror_mode": {
    "name": "ipython",
    "version": 3
   },
   "file_extension": ".py",
   "mimetype": "text/x-python",
   "name": "python",
   "nbconvert_exporter": "python",
   "pygments_lexer": "ipython3",
   "version": "3.8.8"
  }
 },
 "nbformat": 4,
 "nbformat_minor": 5
}
