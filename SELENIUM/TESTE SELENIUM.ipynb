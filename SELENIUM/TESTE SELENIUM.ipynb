{
 "cells": [
  {
   "cell_type": "markdown",
   "id": "401a09ff",
   "metadata": {},
   "source": [
    "# ACESSANDO SITE NORMAL"
   ]
  },
  {
   "cell_type": "code",
   "execution_count": null,
   "id": "21101a45",
   "metadata": {},
   "outputs": [],
   "source": [
    "import pyautogui\n",
    "import pandas as pd \n",
    "from selenium import webdriver\n",
    "from selenium.webdriver.common.by import By\n",
    "from selenium.webdriver.support.ui import WebDriverWait\n",
    "from selenium.webdriver.support import expected_conditions as EC\n",
    "\n",
    "navegador = webdriver.Chrome()\n",
    "navegador.get(\"https://cav.receita.fazenda.gov.br/autenticacao/login\")\n",
    "\n",
    "pyautogui.sleep(5)\n",
    "navegador.find_element_by_xpath('//*[@id=\"login-dados-certificado\"]/p[2]/input').click()\n",
    "pyautogui.sleep(10)\n",
    "pyautogui.click(856,479)\n",
    "#elemento = WebDriverWait(navegador,15).until(EC.presence_of_element_located((By.XPATH,'//*[@id=\"login-dados-certificado\"]/p[2]/input')))\n",
    "\n",
    "#for i, empresa in enumerate(df[\"A\"]):\n",
    "        #A = df1.loc[i, \"A\"]\n",
    "        #B = df1.loc[i, 'B']\n",
    "        \n",
    "        #navegador.find_element_by_xpath('//*[@id=\"truste-consent-button\"]').click()\n",
    "        \n",
    "        #navegador.find_element_by_xpath('//*[@id=\"truste-consent-button\"]').send_keys(B)"
   ]
  },
  {
   "cell_type": "markdown",
   "id": "b98e40ec",
   "metadata": {},
   "source": [
    "# PROCURAR TEXTO ESPECIFICO"
   ]
  },
  {
   "cell_type": "code",
   "execution_count": null,
   "id": "8b35937b",
   "metadata": {},
   "outputs": [],
   "source": [
    "from selenium import webdriver\n",
    "import time\n",
    "\n",
    "driver = webdriver.Chrome()\n",
    "\n",
    "# Abrir o site desejado\n",
    "driver.get('https://solucoes.receita.fazenda.gov.br/Servicos/certidaointernet/pj/Consultar/ErroGeral?msg=CNPJ%20n%C3%A3o%20informado.')\n",
    "\n",
    "# Procurar o elemento que contém o texto desejado\n",
    "element = driver.find_element_by_xpath(\"//*[contains(text(), '03/11/2014')]\")\n",
    "\n",
    "# Armazenar o texto encontrado em uma variável\n",
    "texto_encontrado = element.text\n",
    "\n",
    "# Imprimir o texto encontrado\n",
    "print(texto_encontrado)"
   ]
  }
 ],
 "metadata": {
  "kernelspec": {
   "display_name": "Python 3",
   "language": "python",
   "name": "python3"
  },
  "language_info": {
   "codemirror_mode": {
    "name": "ipython",
    "version": 3
   },
   "file_extension": ".py",
   "mimetype": "text/x-python",
   "name": "python",
   "nbconvert_exporter": "python",
   "pygments_lexer": "ipython3",
   "version": "3.8.8"
  }
 },
 "nbformat": 4,
 "nbformat_minor": 5
}
