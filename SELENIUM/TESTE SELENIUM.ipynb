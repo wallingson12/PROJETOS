import pyautogui
import pandas as pd 
from selenium import webdriver
from selenium.webdriver.common.by import By
from selenium.webdriver.support.ui import WebDriverWait
from selenium.webdriver.support import expected_conditions as EC

df = pd.read_excel("tabela.xlsx")
A = df['A']
B = df['B']

pyautogui.PAUSE = 1

navegador = webdriver.Chrome()
navegador.get("https://www.formula1.com/")

elemento = WebDriverWait(navegador,15).until(EC.presence_of_element_located((By.XPATH,'//*[@id="truste-consent-button"]')))

for i, empresa in enumerate(df["A"]):
        A = df1.loc[i, "A"]
        B = df1.loc[i, 'B']
        
        navegador.find_element_by_xpath('//*[@id="truste-consent-                
        button"]').click()
        
        navegador.find_element_by_xpath('//*[@id="truste-consent-                        
        button"]').send_keys(B)
