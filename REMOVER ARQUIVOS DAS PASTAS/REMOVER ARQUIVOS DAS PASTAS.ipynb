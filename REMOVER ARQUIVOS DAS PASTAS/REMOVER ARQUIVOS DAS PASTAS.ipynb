{
 "cells": [
  {
   "cell_type": "code",
   "execution_count": null,
   "id": "e46db463",
   "metadata": {},
   "outputs": [],
   "source": [
    "#REMOVER ARQUIVO DAS PASTAS\t\n",
    "import os\n",
    "\n",
    "path = r'C:\\Users\\wallingson.silva\\MEUS PROJETOS\\CRIAR PASTAS'\n",
    "dir = os.listdir(path)\n",
    "\n",
    "for file in dir:\n",
    "    if file == \"EFD MÉDICOS - Copia.xlsx\":\n",
    "        os.remove(file)"
   ]
  },
  {
   "cell_type": "code",
   "execution_count": 5,
   "id": "36cfd311",
   "metadata": {},
   "outputs": [],
   "source": [
    "import os\n",
    "\n",
    "path = ( r'C:\\Users\\wallingson.silva\\MEUS PROJETOS\\CRIAR PASTAS')\n",
    "dir = os.listdir(path)\n",
    "\n",
    "for file in dir:\n",
    "    if file == \"EFD MÉDICOS.xlsx\":\n",
    "                os.remove(file)"
   ]
  }
 ],
 "metadata": {
  "kernelspec": {
   "display_name": "Python 3",
   "language": "python",
   "name": "python3"
  },
  "language_info": {
   "codemirror_mode": {
    "name": "ipython",
    "version": 3
   },
   "file_extension": ".py",
   "mimetype": "text/x-python",
   "name": "python",
   "nbconvert_exporter": "python",
   "pygments_lexer": "ipython3",
   "version": "3.8.8"
  }
 },
 "nbformat": 4,
 "nbformat_minor": 5
}
